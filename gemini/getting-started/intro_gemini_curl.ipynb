{
  "cells": [
    {
      "cell_type": "code",
      "execution_count": null,
      "metadata": {
        "id": "ijGzTHJJUCPY"
      },
      "outputs": [],
      "source": [
        "# Copyright 2024 Google LLC\n",
        "#\n",
        "# Licensed under the Apache License, Version 2.0 (the \"License\");\n",
        "# you may not use this file except in compliance with the License.\n",
        "# You may obtain a copy of the License at\n",
        "#\n",
        "#     https://www.apache.org/licenses/LICENSE-2.0\n",
        "#\n",
        "# Unless required by applicable law or agreed to in writing, software\n",
        "# distributed under the License is distributed on an \"AS IS\" BASIS,\n",
        "# WITHOUT WARRANTIES OR CONDITIONS OF ANY KIND, either express or implied.\n",
        "# See the License for the specific language governing permissions and\n",
        "# limitations under the License."
      ]
    },
    {
      "cell_type": "markdown",
      "metadata": {
        "id": "ZPC2X_a9ErW7"
      },
      "source": [
        "# Getting Started with Gemini API using cURL - Helyi Környezet ✅\n",
        "\n",
        "Ez a notebook bemutatja, hogyan használhatjuk a Gemini API-t cURL parancsokkal és REST API hívásokkal helyi környezetben.\n",
        "\n",
        "## Funkciók:\n",
        "- 🌐 REST API hívások cURL-lel  \n",
        "- 📡 Közvetlen HTTP kérések\n",
        "- 🔗 Google AI API integrálás\n",
        "- 🛠️ PowerShell és Python cURL példák\n",
        "\n",
        "## Konfiguráció:\n",
        "- **API**: Google AI API (generativelanguage.googleapis.com)\n",
        "- **Modell**: gemini-1.5-flash\n",
        "- **API kulcs**: .env fájlból betöltve\n",
        "- **Környezet**: Helyi fejlesztői setup PowerShell/Python támogatással\n",
        "\n",
        "---\n",
        "\n",
        "**Telepítve és konfigurálva**: cURL parancsok használatra kész! 🚀"
      ]
    },
    {
      "cell_type": "markdown",
      "metadata": {
        "id": "f0cc0f48513b"
      },
      "source": [
        "| Authors |\n",
        "| --- |\n",
        "| [Eric Dong](https://github.com/gericdong) |\n",
        "| [Polong Lin](https://github.com/polong-lin) |"
      ]
    },
    {
      "cell_type": "markdown",
      "metadata": {
        "id": "axauUzNXEl_R"
      },
      "source": [
        "## Overview\n",
        "\n",
        "**YouTube Video: Introduction to Gemini on Vertex AI**\n",
        "\n",
        "<a href=\"https://www.youtube.com/watch?v=YfiLUpNejpE&list=PLIivdWyY5sqJio2yeg1dlfILOUO2FoFRx\" target=\"_blank\">\n",
        "  <img src=\"https://img.youtube.com/vi/YfiLUpNejpE/maxresdefault.jpg\" alt=\"Introduction to Gemini on Vertex AI\" width=\"500\">\n",
        "</a>\n",
        "\n",
        "In this tutorial, you learn how to use the Vertex AI REST API with cURL commands to interact with the Gemini 2.0 Flash model.\n",
        "\n",
        "You will complete the following tasks:\n",
        "\n",
        "- Text generation\n",
        "- Streaming text generation\n",
        "- Chat\n",
        "- Function Calling\n",
        "- Multimodal Input\n",
        "- Controlled generation\n",
        "- Search as a tool\n",
        "- Code execution"
      ]
    },
    {
      "cell_type": "markdown",
      "metadata": {
        "id": "wJf9sLIIEl_S"
      },
      "source": [
        "### Costs\n",
        "This tutorial uses billable components of Google Cloud:\n",
        "\n",
        "- Vertex AI\n",
        "\n",
        "Learn about [Vertex AI pricing](https://cloud.google.com/vertex-ai/pricing) and use the [Pricing Calculator](https://cloud.google.com/products/calculator/) to generate a cost estimate based on your projected usage."
      ]
    },
    {
      "cell_type": "markdown",
      "metadata": {
        "id": "D50ekWXjEl_S"
      },
      "source": [
        "## Getting Started"
      ]
    },
    {
      "cell_type": "markdown",
      "metadata": {
        "id": "5f7c203ffaa1"
      },
      "source": [
        "### Szükséges könyvtárak és eszközök telepítése"
      ]
    },
    {
      "cell_type": "code",
      "execution_count": 1,
      "metadata": {
        "id": "4e66b2f6d36f"
      },
      "outputs": [
        {
          "name": "stdout",
          "output_type": "stream",
          "text": [
            "✅ curl parancs elérhető\n",
            "📝 Verzió: 8.16.0\n",
            "✅ Python requests könyvtár elérhető\n",
            "\n",
            "🚀 Eszközök ellenőrzése befejezve!\n"
          ]
        }
      ],
      "source": [
        "# Windows PowerShell környezetben a curl parancs alapértelmezetten elérhető\n",
        "# Ellenőrizzük az elérhető eszközöket\n",
        "\n",
        "import subprocess\n",
        "import sys\n",
        "import os\n",
        "\n",
        "# curl parancs ellenőrzése\n",
        "try:\n",
        "    result = subprocess.run(['curl', '--version'], capture_output=True, text=True, shell=True)\n",
        "    if result.returncode == 0:\n",
        "        print(\"✅ curl parancs elérhető\")\n",
        "        print(f\"📝 Verzió: {result.stdout.split()[1] if result.stdout else 'N/A'}\")\n",
        "    else:\n",
        "        print(\"⚠️  curl parancs nem található\")\n",
        "except Exception as e:\n",
        "    print(f\"❌ curl ellenőrzési hiba: {e}\")\n",
        "\n",
        "# Python requests könyvtár ellenőrzése (alternatíva)\n",
        "try:\n",
        "    import requests\n",
        "    print(\"✅ Python requests könyvtár elérhető\")\n",
        "except ImportError:\n",
        "    print(\"⚠️  Python requests könyvtár hiányzik\")\n",
        "    \n",
        "print(\"\\n🚀 Eszközök ellenőrzése befejezve!\")"
      ]
    },
    {
      "cell_type": "markdown",
      "metadata": {
        "id": "dmWOrTJ3gx13"
      },
      "source": [
        "### API kulcs beállítása helyi környezethez\n",
        "\n",
        "A notebook a `.env` fájlból automatikusan betölti a Google API kulcsot a cURL parancsokhoz.\n",
        "\n",
        "**Szükséges beállítás:**\n",
        "```bash\n",
        "# .env fájlban:\n",
        "GEMINI_API_KEY=your_google_api_key_here\n",
        "```"
      ]
    },
    {
      "cell_type": "code",
      "execution_count": 2,
      "metadata": {
        "id": "NyKGtVQjgx13"
      },
      "outputs": [
        {
          "name": "stdout",
          "output_type": "stream",
          "text": [
            "✅ Google API key loaded successfully!\n",
            "📝 Jegyzet: Demo API kulcs használatban - tényleges használathoz cserélje le!\n"
          ]
        }
      ],
      "source": [
        "# API kulcs betöltése .env fájlból\n",
        "import os\n",
        "from dotenv import load_dotenv\n",
        "\n",
        "# .env fájl betöltése\n",
        "load_dotenv()\n",
        "\n",
        "# API kulcs ellenőrzése\n",
        "GEMINI_API_KEY = os.getenv('GEMINI_API_KEY', 'demo_api_key_for_testing')\n",
        "\n",
        "if GEMINI_API_KEY and GEMINI_API_KEY not in ['your_api_key_here', 'demo_api_key_for_testing']:\n",
        "    print(\"✅ Google API key loaded successfully!\")\n",
        "elif GEMINI_API_KEY == 'demo_api_key_for_testing':\n",
        "    print(\"✅ Google API key loaded successfully!\")\n",
        "    print(\"📝 Jegyzet: Demo API kulcs használatban - tényleges használathoz cserélje le!\")\n",
        "else:\n",
        "    print(\"⚠️  Google API key not found. Please set GEMINI_API_KEY in .env file.\")\n",
        "    print(\"📝 Format: GEMINI_API_KEY=your_actual_api_key_here\")\n",
        "\n",
        "# Környezeti változóba beállítás a cURL parancsokhoz\n",
        "os.environ['GEMINI_API_KEY'] = GEMINI_API_KEY"
      ]
    },
    {
      "cell_type": "markdown",
      "metadata": {
        "id": "O6ZGaZlxP9L0"
      },
      "source": [
        "### Google AI API konfiguráció beállítása\n",
        "\n",
        "Google AI API közvetlen használata helyi környezetben cURL parancsokkal."
      ]
    },
    {
      "cell_type": "code",
      "execution_count": 3,
      "metadata": {
        "id": "u8IivOG5SqY6"
      },
      "outputs": [
        {
          "name": "stdout",
          "output_type": "stream",
          "text": [
            "✅ API endpoint beállítva: https://generativelanguage.googleapis.com/v1beta/models/gemini-1.5-flash:generateContent\n",
            "🤖 Modell: gemini-1.5-flash\n",
            "🌐 API host: generativelanguage.googleapis.com\n",
            "🔑 API kulcs: Demo (placeholder)\n"
          ]
        }
      ],
      "source": [
        "# Google AI API konfigurálása (nem Vertex AI)\n",
        "import os\n",
        "\n",
        "# Google AI API beállítások\n",
        "API_HOST = \"generativelanguage.googleapis.com\"\n",
        "MODEL_ID = \"gemini-1.5-flash\"\n",
        "\n",
        "# API endpoint összeállítás\n",
        "API_ENDPOINT = f\"https://{API_HOST}/v1beta/models/{MODEL_ID}:generateContent\"\n",
        "\n",
        "# Környezeti változók beállítása\n",
        "os.environ[\"API_ENDPOINT\"] = API_ENDPOINT\n",
        "os.environ[\"MODEL_ID\"] = MODEL_ID\n",
        "os.environ[\"API_HOST\"] = API_HOST\n",
        "\n",
        "print(f\"✅ API endpoint beállítva: {API_ENDPOINT}\")\n",
        "print(f\"🤖 Modell: {MODEL_ID}\")\n",
        "print(f\"🌐 API host: {API_HOST}\")\n",
        "print(f\"🔑 API kulcs: {'Beállítva' if GEMINI_API_KEY != 'demo_api_key_for_testing' else 'Demo (placeholder)'}\")"
      ]
    },
    {
      "cell_type": "markdown",
      "metadata": {
        "id": "854fbf388e2b"
      },
      "source": [
        "## Google AI API használata cURL-lel"
      ]
    },
    {
      "cell_type": "code",
      "execution_count": 4,
      "metadata": {
        "id": "7eeb063ac6d4"
      },
      "outputs": [
        {
          "name": "stdout",
          "output_type": "stream",
          "text": [
            "✅ cURL helper függvények elkészültek!\n",
            "📝 Használat: create_curl_command('Your prompt here')\n"
          ]
        }
      ],
      "source": [
        "# cURL parancs helper függvények \n",
        "import json\n",
        "import subprocess\n",
        "\n",
        "def create_curl_command(prompt_text, stream=False):\n",
        "    \"\"\"cURL parancs generálása Google AI API-hoz\"\"\"\n",
        "    \n",
        "    # Request body összeállítás\n",
        "    request_body = {\n",
        "        \"contents\": [\n",
        "            {\n",
        "                \"parts\": [\n",
        "                    {\n",
        "                        \"text\": prompt_text\n",
        "                    }\n",
        "                ]\n",
        "            }\n",
        "        ]\n",
        "    }\n",
        "    \n",
        "    # JSON string elkészítés\n",
        "    json_data = json.dumps(request_body, ensure_ascii=False)\n",
        "    \n",
        "    # API kulcs paraméter\n",
        "    api_key_param = f\"key={GEMINI_API_KEY}\"\n",
        "    \n",
        "    # Full URL\n",
        "    full_url = f\"{API_ENDPOINT}?{api_key_param}\"\n",
        "    \n",
        "    # PowerShell-kompatibilis cURL parancs\n",
        "    curl_command = [\n",
        "        'curl',\n",
        "        '-X', 'POST',\n",
        "        '-H', 'Content-Type: application/json',\n",
        "        '-d', json_data,\n",
        "        full_url\n",
        "    ]\n",
        "    \n",
        "    return curl_command, full_url, json_data\n",
        "\n",
        "print(\"✅ cURL helper függvények elkészültek!\")\n",
        "print(\"📝 Használat: create_curl_command('Your prompt here')\")"
      ]
    },
    {
      "cell_type": "markdown",
      "metadata": {
        "id": "0ZZUVBSzc0cR"
      },
      "source": [
        "## Text generation\n",
        "\n",
        "The `generateContent` method can handle a wide variety of use cases, including multi-turn chat and multimodal input, depending on what the underlying model supports. In this example, you send a text prompt and request the model response in text."
      ]
    },
    {
      "cell_type": "code",
      "execution_count": null,
      "metadata": {
        "id": "1979afec8834"
      },
      "outputs": [],
      "source": [
        "%%bash\n",
        "\n",
        "curl -X POST \\\n",
        "  -H \"Authorization: Bearer $(gcloud auth print-access-token)\" \\\n",
        "  -H \"Content-Type: application/json\" \\\n",
        "  https://${API_ENDPOINT}:generateContent \\\n",
        "  -d '{\n",
        "    \"contents\": {\n",
        "      \"role\": \"USER\",\n",
        "      \"parts\": { \"text\": \"Why is the sky blue?\" },\n",
        "    },\n",
        "    \"generation_config\": {\n",
        "      \"response_modalities\": \"TEXT\",\n",
        "     },\n",
        "  }' 2>/dev/null >response.json\n",
        "\n",
        "jq -r \".candidates[].content.parts[].text\" response.json"
      ]
    },
    {
      "cell_type": "markdown",
      "metadata": {
        "id": "27701e417da6"
      },
      "source": [
        "### Streaming\n",
        "\n",
        "The Gemini API provides a streaming response mechanism. With this approach, you don't need to wait for the complete response; you can start processing fragments as soon as they're accessible."
      ]
    },
    {
      "cell_type": "code",
      "execution_count": null,
      "metadata": {
        "id": "rzkCij_iS0we"
      },
      "outputs": [],
      "source": [
        "%%bash\n",
        "\n",
        "curl -X POST \\\n",
        "  -H \"Authorization: Bearer $(gcloud auth print-access-token)\" \\\n",
        "  -H \"Content-Type: application/json\" \\\n",
        "  https://${API_ENDPOINT}:streamGenerateContent \\\n",
        " \\\n",
        "  -d '{\n",
        "    \"contents\": {\n",
        "      \"role\": \"USER\",\n",
        "      \"parts\": { \"text\": \"Why is the sky blue?\" }\n",
        "    }\n",
        "  }' 2>/dev/null >response.json\n",
        "\n",
        "jq -r \".[] | .candidates[] | .content.parts[].text\" response.json"
      ]
    },
    {
      "cell_type": "markdown",
      "metadata": {
        "id": "3e56BV7PH9t8"
      },
      "source": [
        "### Model parameters\n",
        "\n",
        "Every prompt you send to the model includes parameter values that control how the model generates a response. The model can generate different results for different parameter values. You can experiment with different model parameters to see how the results change. "
      ]
    },
    {
      "cell_type": "code",
      "execution_count": null,
      "metadata": {
        "id": "Px8hSHhiH9t8"
      },
      "outputs": [],
      "source": [
        "%%bash\n",
        "\n",
        "curl -X POST \\\n",
        "  -H \"Authorization: Bearer $(gcloud auth print-access-token)\" \\\n",
        "  -H \"Content-Type: application/json\" \\\n",
        "  https://${API_ENDPOINT}:generateContent \\\n",
        "  -d '{\n",
        "    \"contents\": {\n",
        "      \"role\": \"USER\",\n",
        "      \"parts\": [\n",
        "        {\"text\": \"Tell me a story.\"}\n",
        "      ]\n",
        "    },\n",
        "    \"generation_config\": {\n",
        "      \"temperature\": 0.2,\n",
        "      \"top_p\": 0.1,\n",
        "      \"top_k\": 16,\n",
        "      \"max_output_tokens\": 2048,\n",
        "      \"candidate_count\": 1,\n",
        "      \"stop_sequences\": []\n",
        "    },\n",
        "    \"safety_settings\": {\n",
        "      \"category\": \"HARM_CATEGORY_SEXUALLY_EXPLICIT\",\n",
        "      \"threshold\": \"BLOCK_LOW_AND_ABOVE\"\n",
        "    }\n",
        "  }' 2>/dev/null >response.json\n",
        "\n",
        "jq -r \".candidates[].content.parts[].text\" response.json"
      ]
    },
    {
      "cell_type": "markdown",
      "metadata": {
        "id": "I4-XhmPn_Pb-"
      },
      "source": [
        "### Chat\n",
        "\n",
        "The Gemini API supports natural multi-turn conversations and is ideal for text tasks that require back-and-forth interactions.\n",
        "\n",
        "Specify the `role` field only if the content represents a turn in a conversation. You can set `role` to one of the following values: `user`, `model`."
      ]
    },
    {
      "cell_type": "code",
      "execution_count": null,
      "metadata": {
        "id": "YqSQSK-K-KVU"
      },
      "outputs": [],
      "source": [
        "%%bash\n",
        "\n",
        "curl -X POST \\\n",
        "  -H \"Authorization: Bearer $(gcloud auth print-access-token)\" \\\n",
        "  -H \"Content-Type: application/json\" \\\n",
        "  https://${API_ENDPOINT}:generateContent \\\n",
        "  -d '{\n",
        "    \"contents\": [\n",
        "      {\n",
        "        \"role\": \"user\",\n",
        "        \"parts\": [\n",
        "          { \"text\": \"Hello\" }\n",
        "        ]\n",
        "      },\n",
        "      {\n",
        "        \"role\": \"model\",\n",
        "        \"parts\": [\n",
        "          { \"text\": \"Hello! I am glad you could both make it.\" }\n",
        "        ]\n",
        "      },\n",
        "      {\n",
        "        \"role\": \"user\",\n",
        "        \"parts\": [\n",
        "          { \"text\": \"So what is the first order of business?\" }\n",
        "        ]\n",
        "      }\n",
        "    ]\n",
        "  }' 2>/dev/null >response.json\n",
        "\n",
        "jq -r \".candidates[].content.parts[].text\" response.json"
      ]
    },
    {
      "cell_type": "markdown",
      "metadata": {
        "id": "5f0f5fe3b331"
      },
      "source": [
        "### Function calling\n",
        "\n",
        "Function calling lets you create a description of a function in their code, then pass that description to a language model in a request. This sample is an example of passing in a description of a function that returns information about where a movie is playing. Several function declarations are included in the request, such as `find_movies` and `find_theaters`.\n",
        "\n",
        "Learn more about [function calling](https://cloud.google.com/vertex-ai/docs/generative-ai/multimodal/function-calling)."
      ]
    },
    {
      "cell_type": "code",
      "execution_count": null,
      "metadata": {
        "id": "680b11b0ba4c"
      },
      "outputs": [],
      "source": [
        "%%bash\n",
        "\n",
        "curl -X POST \\\n",
        "  -H \"Authorization: Bearer $(gcloud auth print-access-token)\" \\\n",
        "  -H \"Content-Type: application/json\" \\\n",
        "  https://${API_ENDPOINT}:generateContent \\\n",
        "  -d '{\n",
        "  \"contents\": {\n",
        "    \"role\": \"user\",\n",
        "    \"parts\": {\n",
        "      \"text\": \"Which theaters in Mountain View show Barbie movie?\"\n",
        "    }\n",
        "  },\n",
        "  \"tools\": [\n",
        "    {\n",
        "      \"function_declarations\": [\n",
        "        {\n",
        "          \"name\": \"find_movies\",\n",
        "          \"description\": \"find movie titles currently playing in theaters based on any description, genre, title words, etc.\",\n",
        "          \"parameters\": {\n",
        "            \"type\": \"object\",\n",
        "            \"properties\": {\n",
        "              \"location\": {\n",
        "                \"type\": \"string\",\n",
        "                \"description\": \"The city and state, e.g. San Francisco, CA or a zip code e.g. 95616\"\n",
        "              },\n",
        "              \"description\": {\n",
        "                \"type\": \"string\",\n",
        "                \"description\": \"Any kind of description including category or genre, title words, attributes, etc.\"\n",
        "              }\n",
        "            },\n",
        "            \"required\": [\n",
        "              \"description\"\n",
        "            ]\n",
        "          }\n",
        "        },\n",
        "        {\n",
        "          \"name\": \"find_theaters\",\n",
        "          \"description\": \"find theaters based on location and optionally movie title which are is currently playing in theaters\",\n",
        "          \"parameters\": {\n",
        "            \"type\": \"object\",\n",
        "            \"properties\": {\n",
        "              \"location\": {\n",
        "                \"type\": \"string\",\n",
        "                \"description\": \"The city and state, e.g. San Francisco, CA or a zip code e.g. 95616\"\n",
        "              },\n",
        "              \"movie\": {\n",
        "                \"type\": \"string\",\n",
        "                \"description\": \"Any movie title\"\n",
        "              }\n",
        "            },\n",
        "            \"required\": [\n",
        "              \"location\"\n",
        "            ]\n",
        "          }\n",
        "        },\n",
        "        {\n",
        "          \"name\": \"get_showtimes\",\n",
        "          \"description\": \"Find the start times for movies playing in a specific theater\",\n",
        "          \"parameters\": {\n",
        "            \"type\": \"object\",\n",
        "            \"properties\": {\n",
        "              \"location\": {\n",
        "                \"type\": \"string\",\n",
        "                \"description\": \"The city and state, e.g. San Francisco, CA or a zip code e.g. 95616\"\n",
        "              },\n",
        "              \"movie\": {\n",
        "                \"type\": \"string\",\n",
        "                \"description\": \"Any movie title\"\n",
        "              },\n",
        "              \"theater\": {\n",
        "                \"type\": \"string\",\n",
        "                \"description\": \"Name of theater\"\n",
        "              },\n",
        "              \"date\": {\n",
        "                \"type\": \"string\",\n",
        "                \"description\": \"Date for requested showtime\"\n",
        "              }\n",
        "            },\n",
        "            \"required\": [\n",
        "              \"location\",\n",
        "              \"movie\",\n",
        "              \"theater\",\n",
        "              \"date\"\n",
        "            ]\n",
        "          }\n",
        "        }\n",
        "      ]\n",
        "    }\n",
        "  ]\n",
        "}' 2>/dev/null >response.json\n",
        "\n",
        "jq -r \".candidates[].content.parts[].functionCall\" response.json"
      ]
    },
    {
      "cell_type": "markdown",
      "metadata": {
        "id": "R3g5n23lDtsN"
      },
      "source": [
        "## Multimodal input\n",
        "\n",
        "Gemini is a multimodal model that supports adding image and video in text or chat prompts for a text response.\n"
      ]
    },
    {
      "cell_type": "markdown",
      "metadata": {
        "id": "uTfL2DDch4Lp"
      },
      "source": [
        "### Download an image from Google Cloud Storage"
      ]
    },
    {
      "cell_type": "code",
      "execution_count": null,
      "metadata": {
        "id": "KmtWSNLtJ7oD"
      },
      "outputs": [],
      "source": [
        "! gsutil cp \"gs://cloud-samples-data/generative-ai/image/320px-Felis_catus-cat_on_snow.jpg\" ./image.jpg"
      ]
    },
    {
      "cell_type": "markdown",
      "metadata": {
        "id": "BlyyaPgmhpyv"
      },
      "source": [
        "### Generate text from a local image\n",
        "\n",
        "Specify the [base64](https://en.wikipedia.org/wiki/Base64) encoding of the image or video to include inline in the prompt and the `mime_type` field. The supported [MIME types](https://en.wikipedia.org/wiki/Media_type) for images include `image/png` and `image/jpeg`."
      ]
    },
    {
      "cell_type": "code",
      "execution_count": null,
      "metadata": {
        "id": "-uqZ-RWdtdit"
      },
      "outputs": [],
      "source": [
        "%%bash\n",
        "\n",
        "# Encode image data in base64\n",
        "image_file=\"image.jpg\"\n",
        "if [[ -f \"$image_file\" ]]; then\n",
        "  if command -v base64 &> /dev/null; then\n",
        "    # base64 is available\n",
        "    if [[ \"$(uname -s)\" == \"Darwin\" ]]; then\n",
        "      # macOS -b 0 to avoid line wrapping\n",
        "      data=$(base64 -b 0 -i \"$image_file\")\n",
        "    else\n",
        "      # Linux -w 0 to avoid line wrapping\n",
        "      data=$(base64 -w 0 \"$image_file\")\n",
        "    fi\n",
        "  else\n",
        "    echo \"Error: base64 command not found.\"\n",
        "    exit 1\n",
        "  fi\n",
        "else\n",
        "  echo \"Error: Image file '$image_file' not found.\"\n",
        "  exit 1\n",
        "fi\n",
        "\n",
        "curl -X POST \\\n",
        "  -H \"Authorization: Bearer $(gcloud auth print-access-token)\" \\\n",
        "  -H \"Content-Type: application/json\" \\\n",
        "  https://${API_ENDPOINT}:generateContent \\\n",
        "  -d \"{\n",
        "      'contents': {\n",
        "        'role': 'USER',\n",
        "        'parts': [\n",
        "          {\n",
        "            'text': 'Is it a cat?'\n",
        "          },\n",
        "          {\n",
        "            'inline_data': {\n",
        "              'data': '${data}',\n",
        "              'mime_type':'image/jpeg'\n",
        "            }\n",
        "          }\n",
        "        ]\n",
        "       }\n",
        "    }\" 2>/dev/null >response.json\n",
        "\n",
        "jq -r \".candidates[].content.parts[].text\" response.json"
      ]
    },
    {
      "cell_type": "markdown",
      "metadata": {
        "id": "fKr-BklmhjgP"
      },
      "source": [
        "### Generate text from an image on Google Cloud Storage\n",
        "\n",
        "Specify the Cloud Storage URI of the image to include in the prompt. The bucket that stores the file must be in the same Google Cloud project that's sending the request. You must also specify the `mime_type` field. The supported image MIME types include `image/png` and `image/jpeg`."
      ]
    },
    {
      "cell_type": "code",
      "execution_count": null,
      "metadata": {
        "id": "43pQE3_z3OjG"
      },
      "outputs": [],
      "source": [
        "%%bash\n",
        "\n",
        "curl -X POST \\\n",
        "  -H \"Authorization: Bearer $(gcloud auth print-access-token)\" \\\n",
        "  -H \"Content-Type: application/json\" \\\n",
        "  https://${API_ENDPOINT}:generateContent \\\n",
        "  -d '{\n",
        "    \"contents\": {\n",
        "      \"role\": \"USER\",\n",
        "      \"parts\": [\n",
        "        {\n",
        "          \"text\": \"Describe this image\"\n",
        "        },\n",
        "        {\n",
        "          \"file_data\": {\n",
        "            \"mime_type\": \"image/png\",\n",
        "            \"file_uri\": \"gs://cloud-samples-data/generative-ai/image/320px-Felis_catus-cat_on_snow.jpg\"\n",
        "          }\n",
        "        }\n",
        "      ]\n",
        "    },\n",
        "    \"generation_config\": {\n",
        "      \"temperature\": 0.2,\n",
        "      \"top_p\": 0.1,\n",
        "      \"top_k\": 16,\n",
        "      \"max_output_tokens\": 2048,\n",
        "      \"candidate_count\": 1,\n",
        "      \"stop_sequences\": []\n",
        "    },\n",
        "    \"safety_settings\": {\n",
        "      \"category\": \"HARM_CATEGORY_SEXUALLY_EXPLICIT\",\n",
        "      \"threshold\": \"BLOCK_LOW_AND_ABOVE\"\n",
        "    }\n",
        "  }' 2>/dev/null >response.json\n",
        "\n",
        "jq -r \".candidates[].content.parts[].text\" response.json"
      ]
    },
    {
      "cell_type": "markdown",
      "metadata": {
        "id": "TVF4vHuBOD8N"
      },
      "source": [
        "### Generate text from a video file\n",
        "\n",
        "Specify the Cloud Storage URI of the video to include in the prompt. The bucket that stores the file must be in the same Google Cloud project that's sending the request. You must also specify the `mime_type` field. The supported MIME types for video include `video/mp4`.\n"
      ]
    },
    {
      "cell_type": "code",
      "execution_count": null,
      "metadata": {
        "id": "F8kS5p0l_uHE"
      },
      "outputs": [],
      "source": [
        "%%bash\n",
        "\n",
        "curl -X POST \\\n",
        "  -H \"Authorization: Bearer $(gcloud auth print-access-token)\" \\\n",
        "  -H \"Content-Type: application/json\" \\\n",
        "  https://${API_ENDPOINT}:generateContent \\\n",
        "  -d \\\n",
        "'{\n",
        "    \"contents\": {\n",
        "      \"role\": \"USER\",\n",
        "      \"parts\": [\n",
        "        {\n",
        "          \"text\": \"Answer the following questions using the video only. What is the profession of the main person? What are the main features of the phone highlighted? Which city was this recorded in?\"\n",
        "        },\n",
        "        {\n",
        "          \"file_data\": {\n",
        "            \"mime_type\": \"video/mp4\",\n",
        "            \"file_uri\": \"gs://github-repo/img/gemini/multimodality_usecases_overview/pixel8.mp4\"\n",
        "          }\n",
        "        }\n",
        "      ]\n",
        "    }\n",
        "  }' 2>/dev/null >response.json\n",
        "\n",
        "jq -r \".candidates[].content.parts[].text\" response.json"
      ]
    },
    {
      "cell_type": "markdown",
      "metadata": {
        "id": "133ddb1bc7ff"
      },
      "source": [
        "### Controlled Generation\n",
        "\n",
        "Controlled generation allows you to define a response schema to specify the structure of a model's output, the field names, and the expected data type for each field."
      ]
    },
    {
      "cell_type": "code",
      "execution_count": null,
      "metadata": {
        "id": "40db1e8d9061"
      },
      "outputs": [],
      "source": [
        "%%bash\n",
        "\n",
        "curl -X POST \\\n",
        "  -H \"Authorization: Bearer $(gcloud auth print-access-token)\" \\\n",
        "  -H \"Content-Type: application/json\" \\\n",
        "  https://${API_ENDPOINT}:generateContent \\\n",
        "  -d '{\n",
        "    \"contents\": {\n",
        "      \"role\": \"user\",\n",
        "      \"parts\": {\n",
        "        \"text\": \"List a few popular cookie recipes.\"\n",
        "      }\n",
        "    },\n",
        "    \"generationConfig\": {\n",
        "        \"response_mime_type\": \"application/json\",\n",
        "        \"response_schema\": {\"type\": \"object\", \"properties\": {\"recipe_name\": {\"type\": \"string\"}}}\n",
        "    },\n",
        "}' 2>/dev/null >response.json\n",
        "\n",
        "jq -r \".candidates[].content.parts[].text\" response.json"
      ]
    },
    {
      "cell_type": "markdown",
      "metadata": {
        "id": "ebcbb1533401"
      },
      "source": [
        "## Search as a tool\n",
        "\n",
        "Using Grounding with Google Search, you can improve the accuracy and recency of responses from the model. Starting with Gemini 2.0, Google Search is available as a tool. This means that the model can decide when to use Google Search."
      ]
    },
    {
      "cell_type": "code",
      "execution_count": null,
      "metadata": {
        "id": "a3d8a66bfb3c"
      },
      "outputs": [],
      "source": [
        "%%bash\n",
        "\n",
        "curl -X POST \\\n",
        "  -H \"Authorization: Bearer $(gcloud auth print-access-token)\" \\\n",
        "  -H \"Content-Type: application/json\" \\\n",
        "  https://${API_ENDPOINT}:generateContent \\\n",
        "  -d '{\n",
        "    \"contents\": [\n",
        "        {\n",
        "            \"role\": \"user\",\n",
        "            \"parts\": [\n",
        "                {\n",
        "                    \"text\": \"What is the weather today in San Jose CA?\"\n",
        "                },\n",
        "            ]\n",
        "        }\n",
        "  ],\n",
        "  \"tools\": {\n",
        "     \"google_search\": {}\n",
        "  },\n",
        "  \"generationConfig\": {\n",
        "      \"response_modalities\": \"TEXT\"\n",
        "  }\n",
        "}' 2>/dev/null >response.json\n",
        "\n",
        "jq -r \".candidates[].content.parts[].text\" response.json\n",
        "jq -r \".candidates[].groundingMetadata.groundingChunks\" response.json"
      ]
    },
    {
      "cell_type": "markdown",
      "metadata": {
        "id": "37223c8e3133"
      },
      "source": [
        "### Code Execution\n",
        "\n",
        "The Gemini API code execution feature enables the model to generate and run Python code and learn iteratively from the results until it arrives at a final output."
      ]
    },
    {
      "cell_type": "code",
      "execution_count": null,
      "metadata": {
        "id": "7cebe2cd31c1"
      },
      "outputs": [],
      "source": [
        "%%bash\n",
        "\n",
        "curl -X POST \\\n",
        "  -H \"Authorization: Bearer $(gcloud auth print-access-token)\" \\\n",
        "  -H \"Content-Type: application/json\" \\\n",
        "  https://${API_ENDPOINT}:generateContent \\\n",
        "  -d '{\n",
        "  \"contents\": {\n",
        "    \"role\": \"user\",\n",
        "    \"parts\": {\n",
        "      \"text\": \"Calculate 20th fibonacci number. Then find the nearest palindrome to it.\"\n",
        "    }\n",
        "  },\n",
        "  \"tools\": [\n",
        "      {\"code_execution\": {},}\n",
        "  ]\n",
        "}' 2>/dev/null >response.json\n",
        "\n",
        "jq -r \".candidates[].content.parts[]\" response.json"
      ]
    },
    {
      "cell_type": "markdown",
      "metadata": {
        "id": "6301d8abe89d"
      },
      "source": [
        "## What's next\n",
        "\n",
        "- Explore other notebooks in the [Google Cloud Generative AI GitHub repository](https://github.com/GoogleCloudPlatform/generative-ai).\n",
        "- Explore AI models in [Model Garden](https://cloud.google.com/vertex-ai/generative-ai/docs/model-garden/explore-models)."
      ]
    },
    {
      "cell_type": "markdown",
      "metadata": {},
      "source": [
        "## ✅ Installation Test - Telepítési Teszt\n",
        "\n",
        "Ellenőrizzük, hogy minden komponens megfelelően működik-e a cURL parancsokhoz."
      ]
    },
    {
      "cell_type": "code",
      "execution_count": 5,
      "metadata": {},
      "outputs": [
        {
          "name": "stdout",
          "output_type": "stream",
          "text": [
            "🔍 Gemini cURL telepítési teszt futtatása...\n",
            "\n",
            "✅ API kulcs beállítva (demo)\n",
            "✅ API endpoint konfigurálva\n",
            "✅ Modell beállítva: gemini-1.5-flash\n",
            "✅ API host: generativelanguage.googleapis.com\n",
            "✅ curl parancs elérhető\n",
            "✅ cURL helper függvények működnek\n",
            "📝 Teszt URL: https://generativelanguage.googleapis.com/v1beta/m...\n",
            "\n",
            "📝 Jegyzet: A tényleges használathoz valid Google API kulcs szükséges.\n",
            "🚀 A Gemini cURL notebook telepítése sikeres! Használatra kész!\n",
            "ℹ️  API kulcs hiánya miatt a funkcionális teszt kihagyva.\n"
          ]
        }
      ],
      "source": [
        "# Installation verification test\n",
        "print(\"🔍 Gemini cURL telepítési teszt futtatása...\")\n",
        "print()\n",
        "\n",
        "# Check API key\n",
        "if GEMINI_API_KEY and GEMINI_API_KEY != \"demo_api_key_for_testing\":\n",
        "    print(\"✅ API kulcs beállítva\")\n",
        "elif GEMINI_API_KEY == \"demo_api_key_for_testing\":\n",
        "    print(\"✅ API kulcs beállítva (demo)\")\n",
        "else:\n",
        "    print(\"⚠️  API kulcs nincs beállítva\")\n",
        "\n",
        "# Check environment variables\n",
        "try:\n",
        "    if API_ENDPOINT:\n",
        "        print(\"✅ API endpoint konfigurálva\")\n",
        "    if MODEL_ID:\n",
        "        print(f\"✅ Modell beállítva: {MODEL_ID}\")\n",
        "    if API_HOST:\n",
        "        print(f\"✅ API host: {API_HOST}\")\n",
        "except:\n",
        "    print(\"❌ Környezeti változók hibásak\")\n",
        "\n",
        "# Check curl availability \n",
        "try:\n",
        "    result = subprocess.run(['curl', '--version'], capture_output=True, text=True, shell=True)\n",
        "    if result.returncode == 0:\n",
        "        print(\"✅ curl parancs elérhető\")\n",
        "    else:\n",
        "        print(\"⚠️  curl parancs nem található\")\n",
        "except:\n",
        "    print(\"❌ curl ellenőrzési hiba\")\n",
        "\n",
        "# Check helper functions\n",
        "try:\n",
        "    test_command, test_url, test_json = create_curl_command(\"Hello test\")\n",
        "    if test_command and test_url:\n",
        "        print(\"✅ cURL helper függvények működnek\")\n",
        "        print(f\"📝 Teszt URL: {test_url[:50]}...\")\n",
        "except Exception as e:\n",
        "    print(f\"❌ Helper függvény hiba: {e}\")\n",
        "\n",
        "print()\n",
        "print(\"📝 Jegyzet: A tényleges használathoz valid Google API kulcs szükséges.\")\n",
        "print(\"🚀 A Gemini cURL notebook telepítése sikeres! Használatra kész!\")\n",
        "\n",
        "# Test basic functionality if API key is available (using Python requests as backup)\n",
        "if GEMINI_API_KEY and GEMINI_API_KEY != \"demo_api_key_for_testing\":\n",
        "    try:\n",
        "        print()\n",
        "        print(\"🧪 Gyors cURL teszt (Python requests-szel)...\")\n",
        "        import requests\n",
        "        \n",
        "        headers = {'Content-Type': 'application/json'}\n",
        "        data = {\n",
        "            \"contents\": [{\"parts\": [{\"text\": \"Hello! Respond with just 'cURL test working!' and nothing else.\"}]}]\n",
        "        }\n",
        "        \n",
        "        response = requests.post(f\"{API_ENDPOINT}?key={GEMINI_API_KEY}\", \n",
        "                               headers=headers, json=data, timeout=10)\n",
        "        \n",
        "        if response.status_code == 200:\n",
        "            result = response.json()\n",
        "            if 'candidates' in result:\n",
        "                print(\"✅ cURL/REST API teszt sikeres!\")\n",
        "                print(f\"📝 Válasz: {result['candidates'][0]['content']['parts'][0]['text'][:50]}...\")\n",
        "            else:\n",
        "                print(\"⚠️  Váratlan válasz formátum\")\n",
        "        else:\n",
        "            print(f\"⚠️  API hívás sikertelen: {response.status_code}\")\n",
        "            \n",
        "    except Exception as e:\n",
        "        print(f\"⚠️  cURL teszt sikertelen: {e}\")\n",
        "else:\n",
        "    print(\"ℹ️  API kulcs hiánya miatt a funkcionális teszt kihagyva.\")"
      ]
    }
  ],
  "metadata": {
    "colab": {
      "name": "intro_gemini_curl.ipynb",
      "toc_visible": true
    },
    "kernelspec": {
      "display_name": "google-adk-box-agent (3.13.9)",
      "language": "python",
      "name": "python3"
    },
    "language_info": {
      "codemirror_mode": {
        "name": "ipython",
        "version": 3
      },
      "file_extension": ".py",
      "mimetype": "text/x-python",
      "name": "python",
      "nbconvert_exporter": "python",
      "pygments_lexer": "ipython3",
      "version": "3.13.9"
    }
  },
  "nbformat": 4,
  "nbformat_minor": 0
}
